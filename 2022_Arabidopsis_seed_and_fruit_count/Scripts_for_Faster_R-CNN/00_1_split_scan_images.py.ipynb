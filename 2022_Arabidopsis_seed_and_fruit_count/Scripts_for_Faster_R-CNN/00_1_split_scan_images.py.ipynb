{
 "cells": [
  {
   "cell_type": "code",
   "execution_count": 2,
   "id": "59bf55e9",
   "metadata": {},
   "outputs": [
    {
     "name": "stdout",
     "output_type": "stream",
     "text": [
      "['8bit_scan1_031418208_results0.jpg']\n"
     ]
    }
   ],
   "source": [
    "import os, sys\n",
    "import time\n",
    "from PIL import Image,ImageDraw\n",
    "##absolute path of scanned images \n",
    "path = \"D:/Projects/Project_done/2022_Seed_count/Test_for_Jupyter/Scan_images\"\n",
    "os.chdir(path)\n",
    "all_images = [f for f in os.listdir(path ) if f.endswith(\"jpg\")]\n",
    "\n",
    "print(all_images)\n",
    "##create directory for splited images\n",
    "if not os.path.exists(path+\"/single_plate\"):\n",
    "\tos.mkdir(\"single_plate\")\n",
    "else:\n",
    "        #if single_plate directory exist, backup and recreate a new one\n",
    "        os.rename(\"single_plate\",\"single_plate_\"+time.strftime(\"%Y-%m-%d_%H-%M-%S\", time.localtime()))\n",
    "        os.mkdir(\"single_plate\")\n",
    "Image.MAX_IMAGE_PIXELS = 1000000000\n",
    "for f in all_images:\n",
    "        im=Image.open(path+\"/\"+f)\n",
    "        width=im.size[0]\n",
    "        height=im.size[1]\n",
    "        ##height\n",
    "        for i in range(4):\n",
    "                ##width\n",
    "                for  j in range(3):\n",
    "                        start_width=710\n",
    "                        start_height=470\n",
    "                        region=((start_width+   (370+2900)*(j)),(start_height+(500+2900)*(i)),(start_width+(370*j)+(2900)*(j+1)),(start_height+(500*i)+(2900)*(i+1)))\n",
    "                        cropImg = im.crop(region)\n",
    "                        cropImg.save(\"single_plate/\"+f+\"_\"+str(i)+\"_\"+str(j)+\".jpg\")\n"
   ]
  },
  {
   "cell_type": "code",
   "execution_count": null,
   "id": "695b2347",
   "metadata": {},
   "outputs": [],
   "source": []
  }
 ],
 "metadata": {
  "kernelspec": {
   "display_name": "Python 3 (ipykernel)",
   "language": "python",
   "name": "python3"
  },
  "language_info": {
   "codemirror_mode": {
    "name": "ipython",
    "version": 3
   },
   "file_extension": ".py",
   "mimetype": "text/x-python",
   "name": "python",
   "nbconvert_exporter": "python",
   "pygments_lexer": "ipython3",
   "version": "3.7.6"
  }
 },
 "nbformat": 4,
 "nbformat_minor": 5
}
